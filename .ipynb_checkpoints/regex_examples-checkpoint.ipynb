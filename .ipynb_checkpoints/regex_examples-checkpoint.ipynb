{
 "cells": [
  {
   "cell_type": "markdown",
   "id": "82368cbc-dcfa-4bc1-9d73-8ec7d9b3231e",
   "metadata": {},
   "source": [
    "# REGEX Examples"
   ]
  },
  {
   "cell_type": "markdown",
   "id": "7bff83b8-e752-404a-a294-13ff988026d2",
   "metadata": {},
   "source": [
    "| Symbol    | Description                                                  | Example Usage                                       |\n",
    "|-----------|--------------------------------------------------------------|-----------------------------------------------------|\n",
    "| `.`       | Matches any character except newline                         | `re.findall(r't.p', 'top tap tip')`                |\n",
    "| `^`       | Matches the start of the string                              | `re.findall(r'^start', 'start end')`               |\n",
    "| `$`       | Matches the end of the string                                | `re.findall(r'end$', 'start end')`                 |\n",
    "| `[]`      | Matches any single character within the brackets             | `re.findall(r'[aeiou]', 'apple banana')`           |\n",
    "| `[^]`     | Matches any single character not in the brackets             | `re.findall(r'[^0-9]', 'a1b2c3')`                  |\n",
    "| `*`       | Matches 0 or more occurrences of the preceding element       | `re.findall(r'go*', 'gogogo go')`                  |\n",
    "| `+`       | Matches 1 or more occurrences of the preceding element       | `re.findall(r'go+', 'gogogo go')`                  |\n",
    "| `?`       | Matches 0 or 1 occurrence of the preceding element           | `re.findall(r'go?', 'gogogo go')`                  |\n",
    "| `{n}`     | Matches exactly n occurrences of the preceding element       | `re.findall(r'go{2}', 'gogogo go')`                |\n",
    "| `{n,}`    | Matches n or more occurrences of the preceding element       | `re.findall(r'go{2,}', 'gogogo go')`               |\n",
    "| `{n,m}`   | Matches between n and m occurrences of the preceding element | `re.findall(r'go{1,2}', 'gogogo go')`              |\n",
    "| `\\d`      | Matches any decimal digit (0-9)                              | `re.findall(r'\\d', '123-456-7890')`                |\n",
    "| `\\w`      | Matches any alphanumeric character (a-zA-Z0-9_)              | `re.findall(r'\\w', 'abc123_$')`                    |\n",
    "| `\\s`      | Matches any whitespace character (spaces, tabs, newlines)    | `re.findall(r'\\s', 'Hello\\tWorld\\n')`              |\n",
    "| `()`      | Groups regular expressions together                           | `re.findall(r'(ab)+', 'ababab')`                   |\n",
    "| `(?i)`    | Flags for case-insensitive matching                          | `re.findall(r'(?i)hello', 'Hello World')`          |\n",
    "| `\\b`      | Matches empty string at the beginning or end of a word       | `re.findall(r'\\bcat\\b', 'cat cats caterpillar')`   |\n"
   ]
  },
  {
   "cell_type": "code",
   "execution_count": 4,
   "id": "29f4f192-caa5-40b9-966d-2b231bf3c046",
   "metadata": {},
   "outputs": [
    {
     "name": "stdout",
     "output_type": "stream",
     "text": [
      "['email@example.com', 'support@domain.co.uk']\n"
     ]
    }
   ],
   "source": [
    "import re\n",
    "\n",
    "# Regex pattern for matching email addresses\n",
    "pattern = r'\\b[A-Za-z0-9._%+-]+@[A-Za-z0-9.-]+\\.[A-Z|a-z]{2,}\\b'\n",
    "\n",
    "# Example text containing email addresses\n",
    "text = \"Contact us at email@example.com or support@domain.co.uk for assistance.\"\n",
    "\n",
    "# Find all email addresses in the text\n",
    "emails = re.findall(pattern, text)\n",
    "print(emails)\n"
   ]
  },
  {
   "cell_type": "code",
   "execution_count": 5,
   "id": "7de8bd40-060f-418d-8dea-ecfdffee025c",
   "metadata": {},
   "outputs": [
    {
     "name": "stdout",
     "output_type": "stream",
     "text": [
      "['123-456-7890', '987-654-3210']\n"
     ]
    }
   ],
   "source": [
    "# Regex pattern for matching phone numbers\n",
    "pattern = r'\\d{3}-\\d{3}-\\d{4}'\n",
    "\n",
    "# Example text containing phone numbers\n",
    "text = \"Call 123-456-7890 for inquiries or 987-654-3210 for support.\"\n",
    "\n",
    "# Find all phone numbers in the text\n",
    "phone_numbers = re.findall(pattern, text)\n",
    "print(phone_numbers)\n"
   ]
  },
  {
   "cell_type": "code",
   "execution_count": 6,
   "id": "c891ca8f-4c2d-4f18-abef-8d49ff681274",
   "metadata": {},
   "outputs": [
    {
     "name": "stdout",
     "output_type": "stream",
     "text": [
      "['The', 'quick', 'brown', 'fox', 'jumps', 'over', 'the', 'lazy', 'dog']\n"
     ]
    }
   ],
   "source": [
    "\n",
    "# Regex pattern for tokenizing words\n",
    "pattern = r'\\b\\w+\\b'\n",
    "\n",
    "# Example text containing words\n",
    "text = \"The quick brown fox jumps over the lazy dog.\"\n",
    "\n",
    "# Tokenize the text into words\n",
    "words = re.findall(pattern, text)\n",
    "print(words)\n"
   ]
  },
  {
   "cell_type": "code",
   "execution_count": 7,
   "id": "7088d240-2e4d-4892-9897-36f6db9da9d3",
   "metadata": {},
   "outputs": [
    {
     "name": "stdout",
     "output_type": "stream",
     "text": [
      "https://www.example.com is a valid URL.\n",
      "http://sub.domain.co.uk/page is not a valid URL.\n",
      "invalid.url is not a valid URL.\n"
     ]
    }
   ],
   "source": [
    "\n",
    "# Regex pattern for validating URLs\n",
    "pattern = r'^https?://(?:www\\.)?[a-zA-Z0-9-]+\\.[a-zA-Z]{2,}(?:/[^\\s]*)?$'\n",
    "\n",
    "# Example URLs to validate\n",
    "urls = [\"https://www.example.com\", \"http://sub.domain.co.uk/page\", \"invalid.url\"]\n",
    "\n",
    "# Validate URLs\n",
    "for url in urls:\n",
    "    if re.match(pattern, url):\n",
    "        print(f\"{url} is a valid URL.\")\n",
    "    else:\n",
    "        print(f\"{url} is not a valid URL.\")\n"
   ]
  },
  {
   "cell_type": "code",
   "execution_count": 2,
   "id": "5f0d42e1-f9af-429a-94e9-146d11965106",
   "metadata": {},
   "outputs": [
    {
     "name": "stdout",
     "output_type": "stream",
     "text": [
      "Hashtags: ['#innovation', '#technology']\n"
     ]
    }
   ],
   "source": [
    "# Regex pattern for extracting hashtags\n",
    "pattern = r'#\\w+'\n",
    "\n",
    "# Example tweet containing hashtags\n",
    "tweet = \"Excited to announce our new product #innovation #technology\"\n",
    "\n",
    "# Extract hashtags from the tweet\n",
    "hashtags = re.findall(pattern, tweet)\n",
    "print(\"Hashtags:\", hashtags)\n"
   ]
  },
  {
   "cell_type": "code",
   "execution_count": 3,
   "id": "81500061-21de-4940-a84b-0e9d04279e50",
   "metadata": {},
   "outputs": [
    {
     "name": "stdout",
     "output_type": "stream",
     "text": [
      "192.168.0.1 is a valid IP address.\n",
      "256.0.0.1 is not a valid IP address.\n",
      "invalid.ip.address is not a valid IP address.\n"
     ]
    }
   ],
   "source": [
    "# Regex pattern for validating IP addresses\n",
    "pattern = r'^(25[0-5]|2[0-4][0-9]|[01]?[0-9][0-9]?)\\.(25[0-5]|2[0-4][0-9]|[01]?[0-9][0-9]?)\\.(25[0-5]|2[0-4][0-9]|[01]?[0-9][0-9]?)\\.(25[0-5]|2[0-4][0-9]|[01]?[0-9][0-9]?)$'\n",
    "\n",
    "# Example IP addresses to validate\n",
    "ips = [\"192.168.0.1\", \"256.0.0.1\", \"invalid.ip.address\"]\n",
    "\n",
    "# Validate IP addresses\n",
    "for ip in ips:\n",
    "    if re.match(pattern, ip):\n",
    "        print(f\"{ip} is a valid IP address.\")\n",
    "    else:\n",
    "        print(f\"{ip} is not a valid IP address.\")\n"
   ]
  },
  {
   "cell_type": "code",
   "execution_count": null,
   "id": "ddc2eb94-84fd-4783-ba51-fa37eda9c276",
   "metadata": {},
   "outputs": [],
   "source": []
  }
 ],
 "metadata": {
  "kernelspec": {
   "display_name": "Python 3 (ipykernel)",
   "language": "python",
   "name": "python3"
  },
  "language_info": {
   "codemirror_mode": {
    "name": "ipython",
    "version": 3
   },
   "file_extension": ".py",
   "mimetype": "text/x-python",
   "name": "python",
   "nbconvert_exporter": "python",
   "pygments_lexer": "ipython3",
   "version": "3.9.18"
  }
 },
 "nbformat": 4,
 "nbformat_minor": 5
}
